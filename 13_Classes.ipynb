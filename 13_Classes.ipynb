{
  "nbformat": 4,
  "nbformat_minor": 0,
  "metadata": {
    "colab": {
      "provenance": [],
      "include_colab_link": true
    },
    "kernelspec": {
      "name": "python3",
      "display_name": "Python 3"
    },
    "language_info": {
      "name": "python"
    }
  },
  "cells": [
    {
      "cell_type": "markdown",
      "metadata": {
        "id": "view-in-github",
        "colab_type": "text"
      },
      "source": [
        "<a href=\"https://colab.research.google.com/github/srithaalluri/DS-1002/blob/main/13_Classes.ipynb\" target=\"_parent\"><img src=\"https://colab.research.google.com/assets/colab-badge.svg\" alt=\"Open In Colab\"/></a>"
      ]
    },
    {
      "cell_type": "markdown",
      "source": [
        "## Assignment:  Classes\n",
        "### Due Sunday 28 April at 10pm"
      ],
      "metadata": {
        "id": "5Vy93BSp9Tum"
      }
    },
    {
      "cell_type": "markdown",
      "source": [
        "**Maya Justilien (emf6yd) and Sritha Alluri (fcx4bw).**"
      ],
      "metadata": {
        "id": "P5BWVwMqSh-I"
      }
    },
    {
      "cell_type": "markdown",
      "source": [
        "1.  Define a class called `Person` that has attributes `lastName`, `firstName`, `mother`, and `father`.  Both `mother` and `father` should have default value `unknown`.\n",
        "\n",
        "  Include a `__str__()` function that returns a string of the form '`firstName` `lastName`'.\n",
        "\n",
        "  Include a `__repr__()` function that returns a string that can be evaluated to recreate the `Person` object.\n",
        "\n"
      ],
      "metadata": {
        "id": "vcj5XQAI9Wsb"
      }
    },
    {
      "cell_type": "code",
      "source": [
        "class Person:\n",
        "  def __init__(self, lastName, firstName, mother = 'unknown', father = 'unknown'):\n",
        "    self.lastName = lastName\n",
        "    self.firstName = firstName\n",
        "    self.mother = mother\n",
        "    self.father = father\n",
        "\n",
        "  def __str__(self):\n",
        "    return f'{self.firstName} {self.lastName}'\n",
        "# using an f-string to make formatting easier and more concise\n",
        "  def __repr__(self):\n",
        "    return f\"Person('{self.lastName}', '{self.firstName}', '{self.mother}', '{self.father}')\""
      ],
      "metadata": {
        "id": "mjHDwHv3EpVe"
      },
      "execution_count": 1,
      "outputs": []
    },
    {
      "cell_type": "markdown",
      "source": [
        "Create a person (i.e., a `Person` object) called `p` with unknown parents.  (You will need to give your person a first and last name.) Check the type of `p`.  Include all inputs and outputs."
      ],
      "metadata": {
        "id": "-ppMsEIVHINl"
      }
    },
    {
      "cell_type": "code",
      "source": [
        "p = Person ('Brooks', 'Evan')\n",
        "print(type(p))\n",
        "# this output confirms that 'p' is an object of the 'Person' class"
      ],
      "metadata": {
        "id": "5bwid_6gHIBH",
        "outputId": "6b046c20-c7d3-4797-c1f7-5e9b3d12af75",
        "colab": {
          "base_uri": "https://localhost:8080/"
        }
      },
      "execution_count": 2,
      "outputs": [
        {
          "output_type": "stream",
          "name": "stdout",
          "text": [
            "<class '__main__.Person'>\n"
          ]
        }
      ]
    },
    {
      "cell_type": "markdown",
      "source": [
        "Verify that your `__str__` and `__repr__` functions are doing what they are supposed to do.  Include all inputs and outputs."
      ],
      "metadata": {
        "id": "Z6zlUC3xRtal"
      }
    },
    {
      "cell_type": "code",
      "source": [
        "class Person:\n",
        "    def __init__(self, lastName, firstName, mother='unknown', father='unknown'):\n",
        "        self.lastName = lastName\n",
        "        self.firstName = firstName\n",
        "        self.mother = mother\n",
        "        self.father = father\n",
        "\n",
        "    def __str__(self):\n",
        "        return f'{self.firstName} {self.lastName}'\n",
        "\n",
        "    def __repr__(self):\n",
        "        return f\"Person('{self.lastName}', '{self.firstName}', '{self.mother}', '{self.father}')\"\n",
        "\n",
        "p = Person('Brooks', 'Evan')\n",
        "\n",
        "print(str(p))\n",
        "\n",
        "print(repr(p))\n",
        "# These print statements check that the str and repr methods accurately represent the attributes of the Person object"
      ],
      "metadata": {
        "id": "jZO0dBQYRs-K",
        "outputId": "d9857929-b94f-493c-8ec2-e24be5e9373f",
        "colab": {
          "base_uri": "https://localhost:8080/"
        }
      },
      "execution_count": 3,
      "outputs": [
        {
          "output_type": "stream",
          "name": "stdout",
          "text": [
            "Evan Brooks\n",
            "Person('Brooks', 'Evan', 'unknown', 'unknown')\n"
          ]
        }
      ]
    },
    {
      "cell_type": "markdown",
      "source": [
        "Suppose the mother of `p` has been found and is named Taylor Swift.  Create a new person named Taylor Swift, and make her the mother of `p`:\n",
        "\n",
        "```\n",
        "> p.mother\n",
        "'Taylor Swift'\n",
        "```"
      ],
      "metadata": {
        "id": "1mOAThQiHzoQ"
      }
    },
    {
      "cell_type": "code",
      "source": [
        "taylor_swift = Person('Swift', 'Taylor')\n",
        "p.mother = str(taylor_swift)\n",
        "p.mother"
      ],
      "metadata": {
        "id": "NYbDOorpHymz",
        "colab": {
          "base_uri": "https://localhost:8080/",
          "height": 35
        },
        "outputId": "795787b4-8650-405d-e520-7d3b36555b17"
      },
      "execution_count": 4,
      "outputs": [
        {
          "output_type": "execute_result",
          "data": {
            "text/plain": [
              "'Taylor Swift'"
            ],
            "application/vnd.google.colaboratory.intrinsic+json": {
              "type": "string"
            }
          },
          "metadata": {},
          "execution_count": 4
        }
      ]
    },
    {
      "cell_type": "markdown",
      "source": [
        "2.  Add some methods to your class.  Start by copying the `class` definition you already wrote.  Then, inside the `class` definition:\n",
        "\n",
        "  (a) Write a method called `unknownParent()` which returns `True` if any parent is 'unknown' and `False` otherwise.\n",
        "\n",
        "  (b) Write a method called `maternalGrandmother()` which returns the mother's mother.  If the mother is unknown, it should return 'unknown'.\n",
        "\n"
      ],
      "metadata": {
        "id": "1g1pcrmFHzGh"
      }
    },
    {
      "cell_type": "code",
      "source": [
        "class Person:\n",
        "    def __init__(self, lastName, firstName, mother='unknown', father='unknown'):\n",
        "        self.lastName = lastName\n",
        "        self.firstName = firstName\n",
        "        self.mother = mother\n",
        "        self.father = father\n",
        "\n",
        "    def __str__(self):\n",
        "        return f'{self.firstName} {self.lastName}'\n",
        "\n",
        "    def __repr__(self):\n",
        "        return f\"Person('{self.lastName}', '{self.firstName}', '{self.mother}', '{self.father}')\"\n",
        "\n",
        "    def unknownParent(self):\n",
        "      if self.mother == 'unknown' or self.father == 'unknown':\n",
        "        return True\n",
        "      else:\n",
        "          return False\n",
        "    # The if-else statement returns 'True' if any of the parents are unknown, and 'False' if both parents are known\n",
        "    def maternalGrandmother(self):\n",
        "        if self.mother == 'unknown':\n",
        "            return 'unknown'\n",
        "        else:\n",
        "            return self.mother.mother\n",
        "# This returns the name of the grandmother if known, and if the mother is unknown it returns 'unknown'\n",
        "person1 = Person('Brooks', 'Evan')\n",
        "print(person1.unknownParent())\n",
        "# This prints 'True' if either of Evan Brooks' parents are unknown\n",
        "print(person1.maternalGrandmother())"
      ],
      "metadata": {
        "id": "7mIxJGwwKTpv",
        "colab": {
          "base_uri": "https://localhost:8080/"
        },
        "outputId": "b65200be-0009-4f1a-eb55-0b03ef6cace2"
      },
      "execution_count": 5,
      "outputs": [
        {
          "output_type": "stream",
          "name": "stdout",
          "text": [
            "True\n",
            "unknown\n"
          ]
        }
      ]
    },
    {
      "cell_type": "markdown",
      "source": [
        "Create enough `Person` objects to test whether your methods are working properly.  Show all your inputs and outputs.  It is up to you to demonstrate that you have thoroughly tested the code.  You may use additional code and/or text chunks if it helps."
      ],
      "metadata": {
        "id": "l9-4gxd8FxAQ"
      }
    },
    {
      "cell_type": "code",
      "source": [
        "person2 = Person('Angela', 'Mary', mother = 'unknown', father = 'unknown')\n",
        "print(person2, ', ', person2.unknownParent(), ', ', repr(person2), ', ', str(person2), ', ', type(person2))"
      ],
      "metadata": {
        "colab": {
          "base_uri": "https://localhost:8080/"
        },
        "id": "SyKdkvWR4cCF",
        "outputId": "23a0b0b9-fd3a-4e02-af2f-50b049a4cbef"
      },
      "execution_count": 6,
      "outputs": [
        {
          "output_type": "stream",
          "name": "stdout",
          "text": [
            "Mary Angela ,  True ,  Person('Angela', 'Mary', 'unknown', 'unknown') ,  Mary Angela ,  <class '__main__.Person'>\n"
          ]
        }
      ]
    },
    {
      "cell_type": "code",
      "source": [
        "class Person:\n",
        "    def __init__(self, lastName, firstName, mother ='unknown', father ='unknown', maternalGrandmother='unknown'):\n",
        "        self.lastName = lastName\n",
        "        self.firstName = firstName\n",
        "        self.mother = mother\n",
        "        self.father = father\n",
        "        self.maternalGrandmother = maternalGrandmother\n",
        "# This defines the Person class\n",
        "    def __str__(self):\n",
        "        return f'{self.firstName} {self.lastName}'\n",
        "\n",
        "    def __repr__(self):\n",
        "        return f\"Person('{self.lastName}', '{self.firstName}', '{self.mother}', '{self.father}')\"\n",
        "\n",
        "    def unknownParent(self):\n",
        "      if self.mother == 'unknown' or self.father == 'unknown':\n",
        "        return True\n",
        "      else:\n",
        "          return False\n",
        "\n",
        "    def maternalGrandmother(self):\n",
        "        if self.mother == 'unknown':\n",
        "            return 'unknown'\n",
        "        else:\n",
        "            return self.maternalGrandmother\n",
        "# Above are checks of the object names and whether their parents and grandparents are known\n",
        "person3 = Person('Bob', 'Smith', mother='Bethel', father='Matthew', maternalGrandmother='Alice')\n",
        "\n",
        "print(person3, ', ', person3.unknownParent(), ', ', person3.maternalGrandmother, ', ', repr(person3), ', ', str(person3), ', ', type(person3))\n"
      ],
      "metadata": {
        "id": "gX1qpcKzFwoZ",
        "colab": {
          "base_uri": "https://localhost:8080/"
        },
        "outputId": "c0bb43b9-eb75-46e5-ff36-53c14ac6698a"
      },
      "execution_count": 7,
      "outputs": [
        {
          "output_type": "stream",
          "name": "stdout",
          "text": [
            "Smith Bob ,  False ,  Alice ,  Person('Bob', 'Smith', 'Bethel', 'Matthew') ,  Smith Bob ,  <class '__main__.Person'>\n"
          ]
        }
      ]
    },
    {
      "cell_type": "code",
      "source": [
        "person4 = Person('Dave', 'Matthews', mother='unknown', father='Alex', maternalGrandmother='unknown')\n",
        "print(person4, ', ', person4.unknownParent(), ', ', person4.maternalGrandmother, ', ', repr(person4), ', ', str(person4), ', ', type(person4))\n",
        "# This shows another example of the function working for a person object"
      ],
      "metadata": {
        "colab": {
          "base_uri": "https://localhost:8080/"
        },
        "id": "QQn0mRfP9eWv",
        "outputId": "95a0224a-9271-4964-e45e-63b2ece44428"
      },
      "execution_count": 8,
      "outputs": [
        {
          "output_type": "stream",
          "name": "stdout",
          "text": [
            "Matthews Dave ,  True ,  unknown ,  Person('Dave', 'Matthews', 'unknown', 'Alex') ,  Matthews Dave ,  <class '__main__.Person'>\n"
          ]
        }
      ]
    }
  ]
}