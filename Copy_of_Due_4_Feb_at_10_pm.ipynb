{
  "nbformat": 4,
  "nbformat_minor": 0,
  "metadata": {
    "colab": {
      "provenance": [],
      "include_colab_link": true
    },
    "kernelspec": {
      "name": "python3",
      "display_name": "Python 3"
    },
    "language_info": {
      "name": "python"
    }
  },
  "cells": [
    {
      "cell_type": "markdown",
      "metadata": {
        "id": "view-in-github",
        "colab_type": "text"
      },
      "source": [
        "<a href=\"https://colab.research.google.com/github/srithaalluri/DS-1002/blob/main/Copy_of_Due_4_Feb_at_10_pm.ipynb\" target=\"_parent\"><img src=\"https://colab.research.google.com/assets/colab-badge.svg\" alt=\"Open In Colab\"/></a>"
      ]
    },
    {
      "cell_type": "markdown",
      "source": [
        "## DS 1002 homework due Sunday Feb 4 at 10 pm\n"
      ],
      "metadata": {
        "id": "zAw2bmn-TjFJ"
      }
    },
    {
      "cell_type": "markdown",
      "source": [
        "\n",
        "The notebook from Wednesday's class is in my GitHib repository, including the little script we wrote at the end to find mangos in a list of fruit.  The file is called `MorePythonBasics.ipynb`.\n",
        "\n",
        "(By the way I wondered if the correct spelling was \"mangos\" or \"mangoes\" and I found [this](https://www.mango.org/blog-mangos-or-mangoes/)!  Who knew?  There's a National Mango Board!  And they're prepared to adjudicate this and other difficult mango-related questions.)\n",
        "\n",
        "\n"
      ],
      "metadata": {
        "id": "Cmf4xleCSWCu"
      }
    },
    {
      "cell_type": "markdown",
      "source": [
        "### Problem 1:  finding fruit\n",
        "\n",
        "Adapt the function we wrote in class so that it takes two arguments,\n",
        "\n",
        "`fruit` and `hungryfor` ,\n",
        "\n",
        "and then searches through the list `fruit` for the item `hungryfor`.  The line that calls the function should look like\n",
        "\n",
        "`find_fruit(food, hungryfor)`\n",
        "\n",
        "Make it print out the results in the same way, so for example if `food` is what we entered in class and `hungryfor = \"tomatoes\"` then the output will be\n",
        "\n",
        "```python\n",
        "No tomatoes here.\n",
        "No tomatoes here.\n",
        "No tomatoes here.\n",
        "No tomatoes here.\n",
        "No tomatoes here.\n",
        "```\n",
        "Test your code by changing the values of `food` and `hungryfor` and make sure the output is what you expect.  Show a few outputs, each in its own code chunk.\n",
        "\n"
      ],
      "metadata": {
        "id": "rJLyGryAThhp"
      }
    },
    {
      "cell_type": "code",
      "source": [
        "food = [\"apples\", \"oranges\", \"mangos\", \"bananas\", \"blueberries\"]\n",
        "hungryfor = \"tomatoes\"\n",
        "\n",
        "def find_fruit(fruit, hungryfor):\n",
        "  for hungryfor in fruit:\n",
        "    if hungryfor == \"tomatoes\" :\n",
        "      print(\"Hooray!  I found tomatoes.\")\n",
        "    else:\n",
        "      print(\"No tomatoes here.\")\n",
        "\n",
        "find_fruit(food, hungryfor)"
      ],
      "metadata": {
        "id": "x3YMd7ZiTv2N",
        "outputId": "1995f600-e72e-468b-d430-1b22ad8f9d35",
        "colab": {
          "base_uri": "https://localhost:8080/"
        }
      },
      "execution_count": 19,
      "outputs": [
        {
          "output_type": "stream",
          "name": "stdout",
          "text": [
            "No tomatoes here.\n",
            "No tomatoes here.\n",
            "No tomatoes here.\n",
            "No tomatoes here.\n",
            "No tomatoes here.\n"
          ]
        }
      ]
    },
    {
      "cell_type": "code",
      "source": [
        "food = [\"peaches\", \"strawberries\", \"raspberries\", \"pineapples\", \"grapes\"]\n",
        "hungryfor = \"strawberries\"\n",
        "\n",
        "def find_fruit(fruit,hungryfor):\n",
        "  for hungryfor in fruit:\n",
        "    if hungryfor == \"strawberries\" :\n",
        "      print(\"Hooray!  I found strawberries.\")\n",
        "    else:\n",
        "      print(\"No strawberries here.\")\n",
        "\n",
        "find_fruit(food, hungryfor)"
      ],
      "metadata": {
        "id": "YXwLLFCt6H2f",
        "outputId": "d7c4d137-50fe-4c71-f349-dfa75079abb9",
        "colab": {
          "base_uri": "https://localhost:8080/"
        }
      },
      "execution_count": null,
      "outputs": [
        {
          "output_type": "stream",
          "name": "stdout",
          "text": [
            "No strawberries here.\n",
            "Hooray!  I found strawberries.\n",
            "No strawberries here.\n",
            "No strawberries here.\n",
            "No strawberries here.\n"
          ]
        }
      ]
    },
    {
      "cell_type": "code",
      "source": [
        "food = [\"melons\", \"tangerines\", \"plums\", \"kiwis\", \"cherries\"]\n",
        "hungryfor = \"pineapples\"\n",
        "\n",
        "def find_fruit(fruit, hungryfor):\n",
        "  for hungryfor in fruit:\n",
        "    if hungryfor == \"pineapples\" :\n",
        "      print(\"Hooray!  I found pineapples.\")\n",
        "    else:\n",
        "      print(\"No pineapples here.\")\n",
        "\n",
        "find_fruit(food, hungryfor)"
      ],
      "metadata": {
        "id": "aGhqUFFwWfQv",
        "outputId": "692dff0d-755a-48b2-c942-e7d74d57562d",
        "colab": {
          "base_uri": "https://localhost:8080/"
        }
      },
      "execution_count": null,
      "outputs": [
        {
          "output_type": "stream",
          "name": "stdout",
          "text": [
            "No pineapples here.\n",
            "No pineapples here.\n",
            "No pineapples here.\n",
            "No pineapples here.\n",
            "No pineapples here.\n"
          ]
        }
      ]
    },
    {
      "cell_type": "code",
      "source": [
        "drinks = [\"sprite\", \"coke\", \"pepsi\", \"juice\", \"coffee\"]\n",
        "thirstyfor = \"water\"\n",
        "\n",
        "def find_drinks(drinks, thirstyfor):\n",
        "  for thirstyfor in drinks:\n",
        "    if thirstyfor == \"water\" :\n",
        "      print(\"Hooray!  I found water.\")\n",
        "    else:\n",
        "      print(\"No water here.\")\n",
        "\n",
        "find_drinks(drinks, thirstyfor)"
      ],
      "metadata": {
        "id": "ZDQVd6d6V5uZ",
        "outputId": "703f19c4-a759-421d-aaa6-7d88597c3a9b",
        "colab": {
          "base_uri": "https://localhost:8080/"
        }
      },
      "execution_count": null,
      "outputs": [
        {
          "output_type": "stream",
          "name": "stdout",
          "text": [
            "No water here.\n",
            "No water here.\n",
            "No water here.\n",
            "No water here.\n",
            "No water here.\n"
          ]
        }
      ]
    },
    {
      "cell_type": "code",
      "source": [
        "find_fruit(food, hungryfor)"
      ],
      "metadata": {
        "id": "bYdqsfrh6KnE",
        "outputId": "39892e68-6de6-454c-bd9e-049002554d92",
        "colab": {
          "base_uri": "https://localhost:8080/"
        }
      },
      "execution_count": null,
      "outputs": [
        {
          "output_type": "stream",
          "name": "stdout",
          "text": [
            "No pineapples here.\n",
            "No pineapples here.\n",
            "No pineapples here.\n",
            "No pineapples here.\n",
            "No pineapples here.\n"
          ]
        }
      ]
    },
    {
      "cell_type": "code",
      "source": [
        "find_drinks(drinks, thirstyfor)"
      ],
      "metadata": {
        "id": "5KNC6bikeHCP",
        "outputId": "09f33ffc-18ea-4124-d0c8-db2b2da8c96b",
        "colab": {
          "base_uri": "https://localhost:8080/"
        }
      },
      "execution_count": null,
      "outputs": [
        {
          "output_type": "stream",
          "name": "stdout",
          "text": [
            "No water here.\n",
            "No water here.\n",
            "No water here.\n",
            "No water here.\n",
            "No water here.\n"
          ]
        }
      ]
    },
    {
      "cell_type": "markdown",
      "source": [
        "#### Notes\n",
        "1. Once you have run a code chunk in the notebook, it will remember that it has been run.  You don't have to call the function in the same code chunk where the function is defined.  In other words, to call the function with new inputs you can simply make a new code chunk, change the inputs, and call the function.  *You don't have to retype the definition of the function each time.*\n",
        "\n",
        "2. Make sure you clean things up when you're done, so you don't include old code that doesn't work or old incorrect outputs.\n"
      ],
      "metadata": {
        "id": "AMp-a1ym6W7w"
      }
    },
    {
      "cell_type": "markdown",
      "source": [
        "### Problem 2:  the `input()` function\n",
        "\n",
        "(a) Programming gets way more fun when you start to interact with your own programs!  Here is a function that lets you start doing that.  Run the following code and see what happens:\n"
      ],
      "metadata": {
        "id": "R-s9cZ6GYWNX"
      }
    },
    {
      "cell_type": "code",
      "source": [
        "input()\n",
        "print(\"Hello there!\")"
      ],
      "metadata": {
        "id": "IEK8O2qNYkXn",
        "outputId": "69424447-d684-446c-c906-f359a8d68035",
        "colab": {
          "base_uri": "https://localhost:8080/"
        }
      },
      "execution_count": null,
      "outputs": [
        {
          "output_type": "stream",
          "name": "stdout",
          "text": [
            "hi!\n",
            "Hello there!\n"
          ]
        }
      ]
    },
    {
      "cell_type": "markdown",
      "source": [
        "(b) As you just saw, the code waits for you to enter something before it continues.  If you want to actually use the input in the code, you should assign its value to a variable:"
      ],
      "metadata": {
        "id": "sktZu8wWzFF6"
      }
    },
    {
      "cell_type": "code",
      "source": [
        "user_input = input(\"Good afternoon! How are you?\")\n",
        "print(\"Tell me more!\")"
      ],
      "metadata": {
        "id": "fMmBkzbyz9Ty",
        "outputId": "510c40d6-c58b-4045-8e03-4467eef1782d",
        "colab": {
          "base_uri": "https://localhost:8080/"
        }
      },
      "execution_count": 15,
      "outputs": [
        {
          "output_type": "stream",
          "name": "stdout",
          "text": [
            "Good afternoon! How are you?Doing alright!\n",
            "Tell me more!\n"
          ]
        }
      ]
    },
    {
      "cell_type": "markdown",
      "source": [
        "(c) Now you can start interacting.  Write some code that asks the user what they are hungry for (using a print statement), and then takes the user input, and then runs the `find_fruit` function from the previous code block using the user input as the `hungryfor` variable.  Test your code, and then include a few different outputs that demonstrate that the code works."
      ],
      "metadata": {
        "id": "ny41z-dQYmjQ"
      }
    },
    {
      "cell_type": "code",
      "source": [
        "# put code here\n",
        "print(\"What are you hungry for?\")\n",
        "user_input = input()\n",
        "\n",
        "food = [\"apples\", \"oranges\", \"mangos\", \"bananas\", \"blueberries\"]\n",
        "\n",
        "def find_fruit(fruit, user_input):\n",
        "    if user_input in fruit:\n",
        "        print(\"Hooray! I found them.\")\n",
        "    else:\n",
        "        print(\"No food here.\")\n",
        "\n",
        "find_fruit(food, user_input)\n"
      ],
      "metadata": {
        "id": "SKAVoAZ00xOx",
        "colab": {
          "base_uri": "https://localhost:8080/"
        },
        "outputId": "0712aee7-dc24-4e2d-b711-9191eb4e03e6"
      },
      "execution_count": 30,
      "outputs": [
        {
          "output_type": "stream",
          "name": "stdout",
          "text": [
            "What are you hungry for?\n",
            "apples\n",
            "Hooray! I found them.\n"
          ]
        }
      ]
    },
    {
      "cell_type": "code",
      "source": [
        "# run it here, and add more code chunks for more runs\n",
        "print(\"What are you hungry for?\")\n",
        "user_input = input()\n",
        "\n",
        "food = [\"apples\", \"oranges\", \"mangos\", \"bananas\", \"blueberries\"]\n",
        "\n",
        "def find_fruit(fruit, user_input):\n",
        "    if user_input in fruit:\n",
        "        print(\"Hooray! I found them.\")\n",
        "    else:\n",
        "        print(\"No food here.\")\n",
        "\n",
        "find_fruit(food, user_input)"
      ],
      "metadata": {
        "id": "sQQVP1oa5dR7",
        "colab": {
          "base_uri": "https://localhost:8080/"
        },
        "outputId": "a75a58c4-5050-4a22-87b1-0b28ac0dab9a"
      },
      "execution_count": 32,
      "outputs": [
        {
          "output_type": "stream",
          "name": "stdout",
          "text": [
            "What are you hungry for?\n",
            "plums\n",
            "No food here.\n"
          ]
        }
      ]
    },
    {
      "cell_type": "code",
      "source": [
        "print(\"What are you hungry for?\")\n",
        "user_input = input()\n",
        "\n",
        "food = [\"apples\", \"oranges\", \"mangos\", \"bananas\", \"blueberries\"]\n",
        "\n",
        "def find_fruit(fruit, user_input):\n",
        "    if user_input in fruit:\n",
        "        print(\"Hooray! I found them.\")\n",
        "    else:\n",
        "        print(\"No food here.\")\n",
        "\n",
        "find_fruit(food, user_input)"
      ],
      "metadata": {
        "colab": {
          "base_uri": "https://localhost:8080/"
        },
        "id": "irA5nGbH06CR",
        "outputId": "00c3e8bf-e6eb-4648-ce0b-068193ebfa04"
      },
      "execution_count": 33,
      "outputs": [
        {
          "output_type": "stream",
          "name": "stdout",
          "text": [
            "What are you hungry for?\n",
            "mangos\n",
            "Hooray! I found them.\n"
          ]
        }
      ]
    },
    {
      "cell_type": "markdown",
      "source": [
        "### Problem 3:  ratings  \n",
        "Write a piece of code which prompts a user with the question \"What is your rating? (1-10)\" and then asks for user input.  Let's say the input is 3.  Once the input is received, print out a message that says.\n",
        "\n",
        "\"Your rating is *** .\"\n",
        "\n",
        "Obviously, your program should print the number of stars corresponding to the input!  If the input is 5, it should print\n",
        "\n",
        "\"Your rating is ***** .\"\n",
        "\n",
        "Show at least two outputs of your code."
      ],
      "metadata": {
        "id": "5CWOlHBz0xoZ"
      }
    },
    {
      "cell_type": "code",
      "source": [
        "print(\"What is your rating?(1-10)\")\n",
        "user_input = int(input())\n",
        "if 1 <= user_input <= 10:\n",
        "    stars = '*' * user_input\n",
        "    print(f\"Your rating is {stars}.\")\n",
        "else:\n",
        "    print(\"Invalid input. Please enter a number between 1 and 10.\")\n",
        "\n",
        "# put code here"
      ],
      "metadata": {
        "id": "MCWnTAUW2Gin",
        "colab": {
          "base_uri": "https://localhost:8080/"
        },
        "outputId": "ff17e725-dec3-4c9f-df5c-a1b3b197693a"
      },
      "execution_count": 35,
      "outputs": [
        {
          "output_type": "stream",
          "name": "stdout",
          "text": [
            "What is your rating?(1-10)\n",
            "4\n",
            "Your rating is ****.\n"
          ]
        }
      ]
    },
    {
      "cell_type": "code",
      "source": [
        "print(\"What is your rating?(1-10)\")\n",
        "user_input = int(input())\n",
        "if 1 <= user_input <= 10:\n",
        "    stars = '*' * user_input\n",
        "    print(f\"Your rating is {stars}.\")\n",
        "else:\n",
        "    print(\"Invalid input. Please enter a number between 1 and 10.\")"
      ],
      "metadata": {
        "colab": {
          "base_uri": "https://localhost:8080/"
        },
        "id": "rV-vl07V2tno",
        "outputId": "ff61de57-b36a-4b50-8866-6d274b7a4cb7"
      },
      "execution_count": 47,
      "outputs": [
        {
          "output_type": "stream",
          "name": "stdout",
          "text": [
            "What is your rating?(1-10)\n",
            "12\n",
            "Invalid input. Please enter a number between 1 and 10.\n"
          ]
        }
      ]
    },
    {
      "cell_type": "code",
      "source": [
        "# f in python is f-string and allows me to replace curly bracket based on expression and values I set above it\n",
        "# int function allows for correct response; just input() will generate string so conversion to int fixes that issue\n",
        "# my code does not account for inputs with decimals or negatives clearly"
      ],
      "metadata": {
        "id": "t_iNqz6n23tc"
      },
      "execution_count": null,
      "outputs": []
    },
    {
      "cell_type": "code",
      "source": [
        "# you might have to copy the code to show another output\n",
        "# (unless you figure out another way to do it)"
      ],
      "metadata": {
        "id": "nxm67oCk8Ukn"
      },
      "execution_count": null,
      "outputs": []
    },
    {
      "cell_type": "markdown",
      "source": [
        "You do not have to do this as part of the assignment, but one thing to think about with any code that has **interactivity** is that you want to make it **robust**.  This means you should imagine someone is *trying* to break your code, and you should try to make it as indestructible as possible.\n",
        "\n",
        "What will happen to your code if someone enters 3.5?  Or -12?  Or \"nonsense\"?  Test it and see.  Think about how you might guard against errors.\n"
      ],
      "metadata": {
        "id": "VRfc9puT2yac"
      }
    }
  ]
}