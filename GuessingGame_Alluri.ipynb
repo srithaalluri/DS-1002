{
  "nbformat": 4,
  "nbformat_minor": 0,
  "metadata": {
    "colab": {
      "provenance": [],
      "authorship_tag": "ABX9TyNdZ/QxcT0Cu1JEEoOoec3A",
      "include_colab_link": true
    },
    "kernelspec": {
      "name": "python3",
      "display_name": "Python 3"
    },
    "language_info": {
      "name": "python"
    }
  },
  "cells": [
    {
      "cell_type": "markdown",
      "metadata": {
        "id": "view-in-github",
        "colab_type": "text"
      },
      "source": [
        "<a href=\"https://colab.research.google.com/github/srithaalluri/DS-1002/blob/main/GuessingGame_Alluri.ipynb\" target=\"_parent\"><img src=\"https://colab.research.google.com/assets/colab-badge.svg\" alt=\"Open In Colab\"/></a>"
      ]
    },
    {
      "cell_type": "markdown",
      "source": [
        "I worked alone on this assignment.\n",
        "\n"
      ],
      "metadata": {
        "id": "3HD-GFJ9Z8OK"
      }
    },
    {
      "cell_type": "code",
      "execution_count": 1,
      "metadata": {
        "id": "Q_TMCwXxF12w"
      },
      "outputs": [],
      "source": [
        "import numpy as np"
      ]
    },
    {
      "cell_type": "code",
      "source": [
        "import random\n",
        "\n",
        "print(\"I've selected a number between 0 and 100! Could you guess what it is?\")\n",
        "random_number = random.randint(0, 100)\n",
        "min_value = 0\n",
        "max_value = 100\n",
        "# num_guesses = 0 (This is my attempt to include the number of guesses, but I struggled with this task.)\n",
        "\n",
        "def guessing_game():\n",
        "    while True:\n",
        "        try:\n",
        "            user_input = int(input())\n",
        "            if not min_value <= user_input <= max_value:\n",
        "                print(\"Please choose a number between 0 and 100.\")\n",
        "                continue\n",
        "        except ValueError:\n",
        "            print(\"Please choose an integer! Try again.\")\n",
        "            continue\n",
        "\n",
        "        # num_guesses += 1 (This kept messing up my code chunk due to an unbound local error, so I'm turning it into a comment to allow the rest of my code to run.)\n",
        "\n",
        "        if user_input == random_number:\n",
        "            print(\"Congratulations, you got it! Great job!\")\n",
        "            # print(\"Number of guesses:\", num_guesses)\n",
        "            break\n",
        "        else:\n",
        "            print(\"Too high!\" if user_input > random_number else \"Too low!\")\n",
        "\n",
        "guessing_game()\n",
        "\n",
        "\n",
        "\n",
        "\n",
        "\n"
      ],
      "metadata": {
        "colab": {
          "base_uri": "https://localhost:8080/"
        },
        "id": "8tu86A4WG1VY",
        "outputId": "36c6d6b7-f162-4074-af9a-b61c960358c4"
      },
      "execution_count": 2,
      "outputs": [
        {
          "output_type": "stream",
          "name": "stdout",
          "text": [
            "I've selected a number between 0 and 100! Could you guess what it is?\n",
            "3.2\n",
            "Please choose an integer! Try again.\n",
            "1000\n",
            "Please choose a number between 0 and 100.\n",
            "-23\n",
            "Please choose a number between 0 and 100.\n",
            "93\n",
            "Too high!\n",
            "84\n",
            "Too high!\n",
            "56\n",
            "Too low!\n",
            "75\n",
            "Too high!\n",
            "73\n",
            "Too high!\n",
            "68\n",
            "Congratulations, you got it! Great job!\n"
          ]
        }
      ]
    },
    {
      "cell_type": "markdown",
      "source": [
        "It took me approximately two hours to complete this assignment because I kept running into errors (mostly syntax). I eventually figured out a way to run the code chunk by learning the command \"break\" and most importantly, correctly utilizing indentations. Although it took me longer than expected to complete this assignment, I enjoyed figuring out how to work through the issues."
      ],
      "metadata": {
        "id": "o_AJDKkraIhJ"
      }
    }
  ]
}