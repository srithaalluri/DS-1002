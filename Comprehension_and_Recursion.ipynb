{
  "nbformat": 4,
  "nbformat_minor": 0,
  "metadata": {
    "colab": {
      "provenance": [],
      "include_colab_link": true
    },
    "kernelspec": {
      "name": "python3",
      "display_name": "Python 3"
    },
    "language_info": {
      "name": "python"
    }
  },
  "cells": [
    {
      "cell_type": "markdown",
      "metadata": {
        "id": "view-in-github",
        "colab_type": "text"
      },
      "source": [
        "<a href=\"https://colab.research.google.com/github/srithaalluri/DS-1002/blob/main/Comprehension_and_Recursion.ipynb\" target=\"_parent\"><img src=\"https://colab.research.google.com/assets/colab-badge.svg\" alt=\"Open In Colab\"/></a>"
      ]
    },
    {
      "cell_type": "markdown",
      "source": [
        "## Assignment 11\n",
        "Due Monday 15 April at noon"
      ],
      "metadata": {
        "id": "y6mGkyWrqph3"
      }
    },
    {
      "cell_type": "markdown",
      "source": [
        "**Maya Justilien (emf6yd) and Sritha Alluri (fcx4bw).**"
      ],
      "metadata": {
        "id": "yPXtGe4PwE9N"
      }
    },
    {
      "cell_type": "markdown",
      "source": [
        "### List comprehension\n",
        "\n",
        "Many of you resisted my recommendation to use list comprehensions in the previous assignment, and so my hand is forced.  You made me require it.\n",
        "\n",
        "\n",
        "Problem 1.  For each function you write below, you may assume the list being sent to the function will contain the appropriate data type.\n",
        "\n",
        "Use list comprehensions to create a function that will take a list `l` and return . . ."
      ],
      "metadata": {
        "id": "eBJulsWBngse"
      }
    },
    {
      "cell_type": "markdown",
      "source": [
        "(a) . . . a list containing the absolute value of each element of `l`"
      ],
      "metadata": {
        "id": "1h4hKDEqo5T_"
      }
    },
    {
      "cell_type": "code",
      "source": [
        "l = [-3, -6, -2, 21, -4]\n",
        "def abs_list(l):\n",
        "  return [abs(x) for x in l]\n",
        "print(abs_list(l))\n",
        "# 'abs' function will take the absolute value of each element in list 'l'"
      ],
      "metadata": {
        "id": "LNltsHhtngLS",
        "outputId": "d4961380-9227-4643-f428-7e30ec307f65",
        "colab": {
          "base_uri": "https://localhost:8080/"
        }
      },
      "execution_count": null,
      "outputs": [
        {
          "output_type": "stream",
          "name": "stdout",
          "text": [
            "[3, 6, 2, 21, 4]\n"
          ]
        }
      ]
    },
    {
      "cell_type": "markdown",
      "source": [
        "(b) . . . a list containing `True` for each even number in `l` and `False` for each odd number in `l`"
      ],
      "metadata": {
        "id": "mqIbzaTvpLCV"
      }
    },
    {
      "cell_type": "code",
      "source": [
        "def bools_list(l):\n",
        "    return [x % 2 == 0 for x in l]\n",
        "# the above list comprehension returns 'True' for each element that has a remainder of 0 after being divided by 2; the other elements return 'False'\n",
        "print(bools_list(l))"
      ],
      "metadata": {
        "id": "0OTpQFX9pK0t",
        "outputId": "1d026970-d55a-49d2-b23e-980599db6912",
        "colab": {
          "base_uri": "https://localhost:8080/"
        }
      },
      "execution_count": null,
      "outputs": [
        {
          "output_type": "stream",
          "name": "stdout",
          "text": [
            "[False, True, True, False, True]\n"
          ]
        }
      ]
    },
    {
      "cell_type": "markdown",
      "source": [
        "(c) . . . a list containing only the numbers in `l` that are divisible by 3"
      ],
      "metadata": {
        "id": "9yqVg2hApUY9"
      }
    },
    {
      "cell_type": "code",
      "source": [
        "def divisible_list(l):\n",
        "    return [x for x in l if x % 3 == 0]\n",
        "# will print a list of each number in 'l' that is divisible by 3\n",
        "# using the same idea of previous code chunk\n",
        "print(divisible_list(l))"
      ],
      "metadata": {
        "id": "2mP_1aYZpUF4",
        "outputId": "393d7882-6c18-4405-b09e-230946deb136",
        "colab": {
          "base_uri": "https://localhost:8080/"
        }
      },
      "execution_count": null,
      "outputs": [
        {
          "output_type": "stream",
          "name": "stdout",
          "text": [
            "[-3, -6, 21]\n"
          ]
        }
      ]
    },
    {
      "cell_type": "markdown",
      "source": [
        "(d) . . . a list containing only the words in `l` whose first and last letters are the same"
      ],
      "metadata": {
        "id": "2yClgYZupef1"
      }
    },
    {
      "cell_type": "code",
      "source": [
        "l = ['eye', 'building', 'mom', 'computer', 'stress', 'level', 'igloo']\n",
        "# filtering the list based on whether first and last characters are equal\n",
        "result = [word for word in l if word[0] == word[-1]]\n",
        "print(result)"
      ],
      "metadata": {
        "id": "-l7XnemMpeCi",
        "colab": {
          "base_uri": "https://localhost:8080/"
        },
        "outputId": "2c3ad8c8-ce23-47ec-cdb9-09c0456c68be"
      },
      "execution_count": null,
      "outputs": [
        {
          "output_type": "stream",
          "name": "stdout",
          "text": [
            "['eye', 'mom', 'stress', 'level']\n"
          ]
        }
      ]
    },
    {
      "cell_type": "markdown",
      "source": [
        "(e) . . . a list containing the first letter of each word in `l` that ends with a vowel"
      ],
      "metadata": {
        "id": "1mqMysFKppZS"
      }
    },
    {
      "cell_type": "code",
      "source": [
        "l = ['eye', 'building', 'mom', 'computer', 'stress', 'level', 'igloo']\n",
        "# using same idea as previous code chunk but filtering based on vowels\n",
        "result = [word[0] for word in l if word[-1] in 'aeiou']\n",
        "print(result)"
      ],
      "metadata": {
        "id": "1Gi3andbppDc",
        "colab": {
          "base_uri": "https://localhost:8080/"
        },
        "outputId": "e8b8cd8f-f869-458a-875f-76f2bc5a0693"
      },
      "execution_count": null,
      "outputs": [
        {
          "output_type": "stream",
          "name": "stdout",
          "text": [
            "['e', 'i']\n"
          ]
        }
      ]
    },
    {
      "cell_type": "markdown",
      "source": [
        "### Multiplication as a recursive process\n",
        "Problem 2.  Write a recursive function that computes the product of two positive integers `a` and `b` by adding `a` to itself `b` times.\n",
        "\n",
        "Hints:  \n",
        "1. if `b=1` then the product is `a`.\n",
        "2. if `b>1` then the product is what you get by adding `a` to `a * (b-1)`.\n",
        "\n",
        "Note:  the purpose of this exercise is to practice writing recursive functions.  Of course you can trivially ask for `a*b` and get the correct answer but that is worth no points.  Your function should not use any multiplications.\n"
      ],
      "metadata": {
        "id": "iV4ysawxjsiE"
      }
    },
    {
      "cell_type": "code",
      "execution_count": null,
      "metadata": {
        "id": "wc9Y1d7ejrvH",
        "outputId": "ed4086db-94d0-4a67-d417-321a63d81e14",
        "colab": {
          "base_uri": "https://localhost:8080/"
        }
      },
      "outputs": [
        {
          "output_type": "stream",
          "name": "stdout",
          "text": [
            "50\n"
          ]
        }
      ],
      "source": [
        "a = 5\n",
        "b = 10\n",
        "# labeling function as 'a'\n",
        "def func(a):\n",
        "  func = a + a * (b-1)\n",
        "  if b == 1:\n",
        "    return a\n",
        "# using rules to construct first part of loop\n",
        "  else:\n",
        "    return a + a * (b-1)\n",
        "# if 'b' is not 1, calculated using the expression specified\n",
        "print(func(a))"
      ]
    },
    {
      "cell_type": "code",
      "source": [
        "# testing\n",
        "a = 5\n",
        "b = 1\n",
        "# labeling function as 'a'\n",
        "def func(a):\n",
        "  func = a + a * (b-1)\n",
        "  if b == 1:\n",
        "    return a\n",
        "# using rules to construct first part of loop\n",
        "  else:\n",
        "    return a + a * (b-1)\n",
        "# if 'b' is not 1, calculated using the expression specified\n",
        "print(func(a))"
      ],
      "metadata": {
        "colab": {
          "base_uri": "https://localhost:8080/"
        },
        "id": "HZgGnvCXWBUr",
        "outputId": "87b650ba-36da-418e-c5c9-c354903204ce"
      },
      "execution_count": null,
      "outputs": [
        {
          "output_type": "stream",
          "name": "stdout",
          "text": [
            "5\n"
          ]
        }
      ]
    },
    {
      "cell_type": "markdown",
      "source": [
        "### Division as a recursive process\n",
        "\n",
        "Problem 3:  Write a recursive function that takes two positive integers `a` and `b` and returns the quotient `q` and remainder `r` obtained when `a` is divided by `b`.\n",
        "\n",
        "Hints:  \n",
        "1. If `a<b` then what should `q` and `r` be?\n",
        "\n",
        "2. If `a>b` then think about how `q` and `r` are related to the values you would get from dividing `a-b` by `b`."
      ],
      "metadata": {
        "id": "A5xI1LxDkxn0"
      }
    },
    {
      "cell_type": "code",
      "source": [
        "def divide_recursive(a, b):\n",
        "    if a < b:\n",
        "      return 0, a\n",
        "    if b == 0:\n",
        "      print(\"Cannot divide by zero, please try again\")\n",
        "      return None, None\n",
        "    else:\n",
        "# adding limitations to decrease possibility of errors\n",
        "      q, r = divide_recursive(a - b, b)\n",
        "      return q + 1, r\n",
        "\n",
        "a = 17\n",
        "b = 5\n",
        "q, r = divide_recursive(a, b)\n",
        "print(f\"Quotient: {q}, Remainder: {r}\")\n",
        "# fixing output format from (x, y) to improve readability by using f-string"
      ],
      "metadata": {
        "id": "_3aRmkgJkxUW",
        "colab": {
          "base_uri": "https://localhost:8080/"
        },
        "outputId": "25902ce4-2cc4-4941-a9ab-e494c0ede8c5"
      },
      "execution_count": null,
      "outputs": [
        {
          "output_type": "stream",
          "name": "stdout",
          "text": [
            "Quotient: 3, Remainder: 2\n"
          ]
        }
      ]
    },
    {
      "cell_type": "code",
      "source": [
        "# examples of other outputs\n",
        "def divide_recursive(a, b):\n",
        "    if a < b:\n",
        "      return 0, a\n",
        "    if b == 0:\n",
        "      print(\"Cannot divide by zero, please try again\")\n",
        "      return None, None\n",
        "    else:\n",
        "      q, r = divide_recursive(a - b, b)\n",
        "      return q + 1, r\n",
        "\n",
        "a = 3\n",
        "b = 8\n",
        "q, r = divide_recursive(a, b)\n",
        "print(f\"Quotient: {q}, Remainder: {r}\")"
      ],
      "metadata": {
        "colab": {
          "base_uri": "https://localhost:8080/"
        },
        "id": "poiYJNqBS8qy",
        "outputId": "e0071482-ecd5-49b4-eb61-e47f6fe93012"
      },
      "execution_count": null,
      "outputs": [
        {
          "output_type": "stream",
          "name": "stdout",
          "text": [
            "Quotient: 0, Remainder: 3\n"
          ]
        }
      ]
    },
    {
      "cell_type": "code",
      "source": [
        "def divide_recursive(a, b):\n",
        "    if a < b:\n",
        "      return 0, a\n",
        "    if b == 0:\n",
        "      print(\"Cannot divide by zero, please try again\")\n",
        "      return None, None\n",
        "    else:\n",
        "      q, r = divide_recursive(a - b, b)\n",
        "      return q + 1, r\n",
        "\n",
        "a = 5\n",
        "b = 0\n",
        "q, r = divide_recursive(a, b)\n",
        "print(f\"Quotient: {q}, Remainder: {r}\")"
      ],
      "metadata": {
        "colab": {
          "base_uri": "https://localhost:8080/"
        },
        "id": "mfj-yQWeTx6z",
        "outputId": "7199cf1f-0751-47d9-dacf-fed10dc8b45c"
      },
      "execution_count": null,
      "outputs": [
        {
          "output_type": "stream",
          "name": "stdout",
          "text": [
            "Cannot divide by zero, please try again\n",
            "Quotient: None, Remainder: None\n"
          ]
        }
      ]
    },
    {
      "cell_type": "markdown",
      "source": [
        "### The dot product of two vectors\n",
        "\n",
        "Problem 4.  Write a recursive function `dot()` that takes two lists of numbers, of equal length, and returns the sum of the products of the elements of the same index from each list. For example, if `V=[1,2,3]` and `W=[4,5,6]` then the function should return the value $(1 \\cdot 4) + (2\\cdot 5) + (3\\cdot 6)$, which equals 32.  In physics and linear algebra, this is called the \"dot product\" of the vectors `V` and `W`.\n",
        "\n",
        "Other examples:\n",
        "```\n",
        "dot([3],[4])\n",
        "12\n",
        "\n",
        "dot([1,1,0],[2,7,17])\n",
        "9\n",
        "```\n",
        "Hints:\n",
        "1. How is `dot(V,W)` related to `dot(V[1:],W[1:])`?\n",
        "2. What should happen if the lists are empty?"
      ],
      "metadata": {
        "id": "OkBK7gvglJ3u"
      }
    },
    {
      "cell_type": "code",
      "source": [
        "def dot(V, W):\n",
        "# checking if lengths of the lists are the same length and correcting for it if not (preventing error)\n",
        "    if len(V) != len(W):\n",
        "        raise ValueError(\"Lists must have the same length\")\n",
        "# the following case factors for empty lists\n",
        "    if not V or not W:\n",
        "        return 0\n",
        "    else:\n",
        "        return V[0] * W[0] + dot(V[1:], W[1:])\n",
        "# multiplying first elements of both lists and adding to dot product of the rest of the lists\n",
        "\n",
        "V = [1, 2, 3]\n",
        "W = [4, 5, 6]\n",
        "result = dot(V, W)\n",
        "print(dot(V, W))\n"
      ],
      "metadata": {
        "id": "LZXs6lkslJqm",
        "colab": {
          "base_uri": "https://localhost:8080/"
        },
        "outputId": "ad54df48-ec7d-4a71-cde7-0d805f88fc39"
      },
      "execution_count": null,
      "outputs": [
        {
          "output_type": "stream",
          "name": "stdout",
          "text": [
            "32\n"
          ]
        }
      ]
    },
    {
      "cell_type": "code",
      "source": [
        "def dot(V, W):\n",
        "    if len(V) != len(W):\n",
        "        raise ValueError(\"Lists must have the same length\")\n",
        "    if not V or not W:\n",
        "        return 0\n",
        "    else:\n",
        "        return V[0] * W[0] + dot(V[1:], W[1:])\n",
        "\n",
        "V = []\n",
        "W = []\n",
        "result = dot(V, W)\n",
        "print(dot(V, W))\n",
        "# as seen below, if the lists are empty, the output should be 0"
      ],
      "metadata": {
        "colab": {
          "base_uri": "https://localhost:8080/"
        },
        "id": "EN5r1eKOUcbH",
        "outputId": "2669cb08-fc89-4272-e209-4efbfd95bdeb"
      },
      "execution_count": null,
      "outputs": [
        {
          "output_type": "stream",
          "name": "stdout",
          "text": [
            "0\n"
          ]
        }
      ]
    }
  ]
}