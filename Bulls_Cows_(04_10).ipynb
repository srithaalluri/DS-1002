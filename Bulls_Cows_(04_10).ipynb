{
  "cells": [
    {
      "cell_type": "markdown",
      "metadata": {
        "id": "view-in-github",
        "colab_type": "text"
      },
      "source": [
        "<a href=\"https://colab.research.google.com/github/srithaalluri/DS-1002/blob/main/Bulls_Cows_(04_10).ipynb\" target=\"_parent\"><img src=\"https://colab.research.google.com/assets/colab-badge.svg\" alt=\"Open In Colab\"/></a>"
      ]
    },
    {
      "cell_type": "markdown",
      "metadata": {
        "id": "lSwr8T3SNrkj"
      },
      "source": [
        "## Bulls and Cows:\n",
        "### Another guessing game.\n",
        "### Assignment due Wednesday 10 April at 10 am\n",
        "\n",
        "General instructions:\n",
        "\n",
        "1. You may work in teams of up to three people.  As usual, if you do this, make sure all names are clearly displayed at the top of your submission, and all team members should submit the same GitHub URL.\n",
        "\n",
        "1. Use only basic Python code.  Do not use `numpy` arrays or functions.\n",
        "\n",
        "2. Practice utilizing the coding concepts we have studied.  \n",
        "\n",
        "3. Write docstrings for all your functions.\n",
        "\n"
      ]
    },
    {
      "cell_type": "markdown",
      "source": [
        "Maya Justilien (emf6yd) and Sritha Alluri (fcx4bw)."
      ],
      "metadata": {
        "id": "TddwwrzLD4dC"
      }
    },
    {
      "cell_type": "markdown",
      "metadata": {
        "id": "qrWRyeI2NwHA"
      },
      "source": [
        "### Goal:  program this game\n",
        "In this assignment you will program a version of an old game called Bulls and Cows.  It is somewhat similar to Wordle, but with numbers instead of words (and various other differences . . . read carefully!).\n",
        "\n",
        "The game is played like this:  \n",
        "1. The computer will choose a secret code that the player is trying to guess.\n",
        "2. The secret code will be 4 digits long.  It will use only the digits 1-6, and it will have no repeated digits.  For example the secret code might be 1326 or 6241 but it cannot be 2652 or 4913 or 2601.\n",
        "3. The computer will prompt the user for a guess, and the user will guess.  The guess must follow the same rules (4 digits long, only use digits 1-6, no repeats).  The program should not allow an invalid guess.\n",
        "4. After each guess, the computer will give feedback to the user as follows:  \n",
        "(i) Each digit of the guess that is in the secret code and in the correct position is called a Bull (B).  \n",
        "(ii) Each digit of the guess that exists somewhere in the secret code, but *not* in the same position as in the guess, is called a Cow (C).  \n",
        "(iii) A digit of the guess that doesn't occur anywhere in the secret code is called a miss (X).  \n",
        "The computer will inform the user how many Bulls, how many Cows, and how many misses the user's guess had.  \n",
        "The feedback will always start with B's, then list C's, then list X's.  \n",
        "For example if the secret code is 1326  \n",
        "and the guess is 4316  \n",
        "then the computer should respond with \"BBCX\"  \n",
        "because there are two Bulls (the 3 and the 6 are Bulls, because they occur in the same position in the guess as in the secret code),  \n",
        "one Cow (the 1, which is a correct digit but in the wrong position),  \n",
        "and one Miss (the 4, which does not occur anywhere in the secret code).  \n",
        "> **Important:** the feedback string should always list the Bulls first, then the Cows, then the Misses.  It should **not** tell the user which digits are which!  The only information in the feedback string is how many of each there are.  In the example above, for instance, the feedback is **not** \"XBCB\" but rather \"BBCX\".  This is different from Wordle, if you are familiar with that game.\n",
        "5. The user should then be prompted for another guess.  This guess-with-feedback process should be repeated until the user gets the correct code, at which point the computer should indicate that they have won the game.  However, the user should only be allowed 6 guesses; if they don't guess correctly in 6 attempts, then following the feedback from their final guess they should get a message that they have lost the game, and the secret code should be revealed.\n",
        "\n",
        "\n",
        "\n",
        "\n",
        "\n",
        "\n",
        "\n"
      ]
    },
    {
      "cell_type": "markdown",
      "source": [
        "### Steps\n",
        "We will build this game using several functions.  \n",
        "\n",
        "1. **Count the Bulls:**  \n",
        "Write a function that takes two lists of the same length, and returns the number of Bulls.  That is, it should return the number of indices where the lists contain the same element.  *(Note:  you don't have to check that the entries are between 1 and 6, or that there are no repeats, etc.  A different function will do that.)*\n",
        "\n",
        "> A sample run might look like\n",
        "```\n",
        "first = [11, 3, 17, 5, 1]\n",
        "second = [20, 2, 17, 3, 1]\n",
        "count_bulls(first,second)\n",
        "```\n",
        "```\n",
        " 2\n",
        "```\n"
      ],
      "metadata": {
        "id": "XSH1JULaurD1"
      }
    },
    {
      "cell_type": "markdown",
      "source": [
        "Define your function in the code chunk below.  The function definition command and the return command are pre-populated for you.  You just have to fill in the part which does the actual counting.  I recommend using a list comprehension to do this.\n"
      ],
      "metadata": {
        "id": "pXoOyBk7xmPa"
      }
    },
    {
      "cell_type": "code",
      "source": [
        "# Example lists\n",
        "def count_bulls(first, second):\n",
        "    \"\"\"\n",
        "    Purpose: Count the number of bulls in two lists by comparing their elements at the same indices.\n",
        "\n",
        "    Args:\n",
        "    first (list): The first list to compare.\n",
        "    second (list): The second list to compare.\n",
        "\n",
        "    Output\n",
        "    int: The count of elements that are equal in both lists at the same index (bulls).\n",
        "    \"\"\"\n",
        "    num_bulls = sum(1 for i in range(len(first)) if first[i] == second[i])\n",
        "    return num_bulls\n",
        "\n",
        "first = [11, 3, 17, 5, 1]\n",
        "second = [20, 2, 17, 3, 1]\n",
        "print(count_bulls(first, second))"
      ],
      "metadata": {
        "id": "vEsRSe8KxlcF",
        "colab": {
          "base_uri": "https://localhost:8080/"
        },
        "outputId": "a5e855f8-f5a4-4413-b58b-4d61d5247dcb"
      },
      "execution_count": 1,
      "outputs": [
        {
          "output_type": "stream",
          "name": "stdout",
          "text": [
            "2\n"
          ]
        }
      ]
    },
    {
      "cell_type": "code",
      "source": [
        "# Demonstration of working code with different lists\n",
        "first = [10, 2, 16, 4, 3]\n",
        "second = [20, 2, 16, 1, 3]\n",
        "def count_bulls(first, second):\n",
        "    num_bulls = sum(1 for i in range(len(first)) if first[i] == second[i])\n",
        "    return num_bulls\n",
        "print(count_bulls(first, second))"
      ],
      "metadata": {
        "colab": {
          "base_uri": "https://localhost:8080/"
        },
        "id": "uNPWCi0kQrE0",
        "outputId": "aaeaf3df-9fa6-4a8a-a316-ea22ebe71caf"
      },
      "execution_count": 2,
      "outputs": [
        {
          "output_type": "stream",
          "name": "stdout",
          "text": [
            "3\n"
          ]
        }
      ]
    },
    {
      "cell_type": "markdown",
      "source": [
        "The code chunk used to return the number of bulls involves a list comprehension. In the above chunk, I'm taking the sum of all the 1s generated for matching elements in both lists."
      ],
      "metadata": {
        "id": "lzTG8qPDAWW0"
      }
    },
    {
      "cell_type": "markdown",
      "source": [],
      "metadata": {
        "id": "rwvtGTg-_0xF"
      }
    },
    {
      "cell_type": "markdown",
      "source": [
        "Add code and/or text chunks below to demonstrate that you have tested your code and that it works correctly."
      ],
      "metadata": {
        "id": "yACJyJtOzE2U"
      }
    },
    {
      "cell_type": "markdown",
      "source": [
        "2. **Count something else:**  \n",
        "To count the cows it will be helpful first to count how many of the elements occur in both strings, without paying attention their positions.\n",
        "Write a function called `count_animals` that takes two lists of the same length, and returns the number of elements of the second list that are also in the first list.  (In the game setting, each such element is either a Bull or a Cow, but don't worry about which is which for this problem.)\n",
        "You may assume the lists do not contain repeated elements, since this will be the case when the function is called in the game.\n",
        "\n",
        "> This time a sample run might look like\n",
        "```\n",
        "first = [11, 3, 17, 5, 1]\n",
        "second = [20, 2, 17, 3, 1]\n",
        "count_animals(first,second)\n",
        "```\n",
        "```\n",
        " 3\n",
        "```\n",
        "\n",
        "This one isn't started for you.  Remember to include a docstring.  This can also be done using a list comprehension, similar to the previous function.\n",
        "\n"
      ],
      "metadata": {
        "id": "aMsOmejkzNVN"
      }
    },
    {
      "cell_type": "code",
      "source": [
        "first = [11, 3, 17, 5, 1]\n",
        "second = [20, 2, 17, 3, 1]\n",
        "def count_animals(first, second):\n",
        "    \"\"\"\n",
        "    Purpose: Count the number of animals to establish common elements between the two lists.\n",
        "\n",
        "    Args:\n",
        "    first (list): The first list to compare.\n",
        "    second (list): The second list to compare.\n",
        "\n",
        "    Output\n",
        "    int: The number of animals - count of elements that are simply common between the two lists.\n",
        "    \"\"\"\n",
        "    num_animals = sum(1 for x in first if x in second)\n",
        "    return num_animals\n",
        "\n",
        "print(count_animals(first, second))"
      ],
      "metadata": {
        "id": "yRX219q02e6i",
        "colab": {
          "base_uri": "https://localhost:8080/"
        },
        "outputId": "0ae7f064-e84d-4dcd-e8d9-a2921d98d696"
      },
      "execution_count": 3,
      "outputs": [
        {
          "output_type": "stream",
          "name": "stdout",
          "text": [
            "3\n"
          ]
        }
      ]
    },
    {
      "cell_type": "code",
      "source": [
        "# Demonstration with different lists\n",
        "first = [10, 2, 16, 4, 3]\n",
        "second = [20, 5, 16, 1, 3]\n",
        "def count_animals(first, second):\n",
        "    num_animals = sum(1 for x in first if x in second)\n",
        "    return num_animals\n",
        "\n",
        "print(count_animals(first, second))"
      ],
      "metadata": {
        "colab": {
          "base_uri": "https://localhost:8080/"
        },
        "id": "f9LgFADSQ5KZ",
        "outputId": "84fd6433-4ffc-42c5-a700-e1e73a98de1b"
      },
      "execution_count": 4,
      "outputs": [
        {
          "output_type": "stream",
          "name": "stdout",
          "text": [
            "2\n"
          ]
        }
      ]
    },
    {
      "cell_type": "markdown",
      "source": [
        "3. **Count the cows:**  \n",
        "Write a function called `count_cows` that counts the cows.  \n",
        "> This time a sample run might look like\n",
        "```\n",
        "first = [11, 3, 17, 5, 1]\n",
        "second = [20, 2, 17, 3, 1]\n",
        "count_cows(first,second)\n",
        "```\n",
        "```\n",
        " 1\n",
        "```\n",
        "*Use the two previously defined functions to help you!  \n",
        "In fact, remember that the only reason we wrote the `count_animals` function was to help count the cows.*\n",
        "\n",
        "You can do this with only two lines of code, not counting documentation!"
      ],
      "metadata": {
        "id": "x2DAPkxj2GMo"
      }
    },
    {
      "cell_type": "code",
      "source": [
        "first = [11, 3, 17, 5, 1]\n",
        "second = [20, 2, 17, 3, 1]\n",
        "def count_cows(first, second):\n",
        "  \"\"\"\n",
        "    Purpose: Count the number of occurrences of any element that's in the second list that's also in the first list.\n",
        "\n",
        "    Inputs\n",
        "        first (list): ints.\n",
        "        second (list): ints.\n",
        "\n",
        "    Output\n",
        "        int: The number of occurrences.\n",
        "    \"\"\"\n",
        "  count = 0\n",
        "  for num in second:\n",
        "    if num in first:\n",
        "      count += 1\n",
        "  return count\n",
        "\n",
        "count_cows(first, second)\n",
        "# in this case, cows and bulls overlapped, but this won't occur in the true game"
      ],
      "metadata": {
        "id": "QnxnaOPI3YZO",
        "colab": {
          "base_uri": "https://localhost:8080/"
        },
        "outputId": "5f4b7049-2df5-44ee-b956-d43f75d8d938"
      },
      "execution_count": 5,
      "outputs": [
        {
          "output_type": "execute_result",
          "data": {
            "text/plain": [
              "3"
            ]
          },
          "metadata": {},
          "execution_count": 5
        }
      ]
    },
    {
      "cell_type": "markdown",
      "metadata": {
        "id": "hWQhYDIVYjXr"
      },
      "source": [
        "4. **Create feedback string**  \n",
        "Write a `build_response_str` function that takes three numbers, say `b,c,l`, and outputs a string of total length `l` that consists of `b` B's, followed by `c` C's, and the rest X's (until the total length is `l`).\n",
        "\n",
        "> Sample run:\n",
        "```\n",
        "build_response_str(4,3,9)\n",
        "```\n",
        "```\n",
        "BBBBCCCXX\n",
        "```"
      ]
    },
    {
      "cell_type": "code",
      "source": [
        "def build_response_str(b, c, x):\n",
        "  '''\n",
        "  Purpose:  Use the counts of bulls (B), cows (C), and misses (X) to generate a response string.\n",
        "\n",
        "  Input:\n",
        "        B: int, count of bulls\n",
        "        C: int, count of cows\n",
        "        X: str, response for situations where only one item in count\n",
        "\n",
        "  Output:\n",
        "    str, response string\n",
        "  '''\n",
        "  bcx_count = [b, c, x]\n",
        "\n",
        "  if len(bcx_count) == 1:\n",
        "        return str(bcx_count[0])\n",
        "  else:\n",
        "    response = 'B' * b + 'C' * c + 'X' * (9 - b - c)\n",
        "    return response"
      ],
      "metadata": {
        "id": "GSimWqUsMaPE"
      },
      "execution_count": 17,
      "outputs": []
    },
    {
      "cell_type": "code",
      "source": [
        "build_response_str(4,3,9)"
      ],
      "metadata": {
        "colab": {
          "base_uri": "https://localhost:8080/",
          "height": 35
        },
        "id": "9XRhm-QxXYfC",
        "outputId": "f07402f6-d107-41f6-98b9-a9fc5baff328"
      },
      "execution_count": 18,
      "outputs": [
        {
          "output_type": "execute_result",
          "data": {
            "text/plain": [
              "'BBBBCCCXX'"
            ],
            "application/vnd.google.colaboratory.intrinsic+json": {
              "type": "string"
            }
          },
          "metadata": {},
          "execution_count": 18
        }
      ]
    },
    {
      "cell_type": "markdown",
      "source": [
        "Test your code here."
      ],
      "metadata": {
        "id": "2D14kxTU7ApH"
      }
    },
    {
      "cell_type": "markdown",
      "metadata": {
        "id": "omzE6sLKwsMC"
      },
      "source": [
        "5.  **Generate feedback for guesses**  \n",
        "Write a function `response(first,second)` that takes two lists of the same length, and outputs a string consisting of some number of B's followed by some number of C's followed by some number of X's, where the numbers correspond to the things we counted above.  That is, if `first` were the secret code in the game and `second` were the user's guess, then we would print one B for each Bull, one C for each Cow, and one X for each Miss. The total output string should have the same length as the input strings.\n",
        "\n",
        "> Sample run:\n",
        "```\n",
        "first = [11, 3, 17, 5, 1]\n",
        "second = [20, 2, 17, 3, 1]\n",
        "response(first,second)\n",
        "```\n",
        "```\n",
        " BBCXX\n",
        "```\n",
        "\n",
        "With all the functions you've already put in place, this should be simple.  Test your code once it's written.\n"
      ]
    },
    {
      "cell_type": "code",
      "source": [
        "def response(first, second, count=0):\n",
        "  \"\"\"\n",
        "    Purpose: Compare two lists and generate a response string representing the number of bulls, cows, and misses.\n",
        "\n",
        "    Inputs:\n",
        "        first (list): The secret code.\n",
        "        second (list): The guessed code.\n",
        "        count (int): The number of times the function has been recursively called (default is 0).\n",
        "\n",
        "    Output:\n",
        "        None\n",
        "\n",
        "    Print a response string indicating the number of bulls, cows, and misses.\n",
        "    \"\"\"\n",
        "  B = count_bulls(first, second)\n",
        "  C = count_animals(first, second) - count_bulls(first, second)\n",
        "  X = len(first) - B - C\n",
        "  print('B' * B + 'C' * C + 'X' * X)\n",
        "  count += 1\n",
        "  if count == 1:\n",
        "    return\n",
        "  return response(first, second, count)\n",
        "\n",
        "\n",
        "first = [8, 9, 7, 3]\n",
        "second = [int(x) for x in input(\"Guess the code: \")]\n",
        "\n",
        "response(first, second)"
      ],
      "metadata": {
        "id": "RD1qq7l783y5",
        "colab": {
          "base_uri": "https://localhost:8080/"
        },
        "outputId": "604c2633-54e7-4683-e012-b10085e3d6e8"
      },
      "execution_count": 8,
      "outputs": [
        {
          "output_type": "stream",
          "name": "stdout",
          "text": [
            "Guess the code: 1423\n",
            "BXXX\n"
          ]
        }
      ]
    },
    {
      "cell_type": "markdown",
      "metadata": {
        "id": "LWshNPjPZJdQ"
      },
      "source": [
        "6.  **Choose the secret code**  \n",
        "The `random` package, and specifically the `sample` sub-package, is useful for generating random samples.  Try running the following lines of code several times.\n",
        "\n"
      ]
    },
    {
      "cell_type": "code",
      "source": [
        "from random import sample\n",
        "\n",
        "sample(range(1,7),4)  # the first argument is the population to be sampled, and the second is the number of samples\n",
        "                      # recall that `range(a,b)` includes `a` but stops at `b-1`"
      ],
      "metadata": {
        "id": "OzEZ5BQZ85jV",
        "colab": {
          "base_uri": "https://localhost:8080/"
        },
        "outputId": "c497fdeb-43c8-418d-c4f5-39293ae681c8"
      },
      "execution_count": 9,
      "outputs": [
        {
          "output_type": "execute_result",
          "data": {
            "text/plain": [
              "[3, 6, 2, 5]"
            ]
          },
          "metadata": {},
          "execution_count": 9
        }
      ]
    },
    {
      "cell_type": "markdown",
      "source": [
        "What type of object is returned by the `sample` function?\n"
      ],
      "metadata": {
        "id": "N1BOe2Xd-kr4"
      }
    },
    {
      "cell_type": "code",
      "source": [
        "type(sample)\n",
        "# This is a method"
      ],
      "metadata": {
        "id": "U5AAu9sG-slX",
        "colab": {
          "base_uri": "https://localhost:8080/"
        },
        "outputId": "d7ce1db0-ef50-4bec-8bb1-987c3ff632e3"
      },
      "execution_count": 10,
      "outputs": [
        {
          "output_type": "execute_result",
          "data": {
            "text/plain": [
              "method"
            ]
          },
          "metadata": {},
          "execution_count": 10
        }
      ]
    },
    {
      "cell_type": "markdown",
      "source": [],
      "metadata": {
        "id": "yGZw8xFZ-uN4"
      }
    },
    {
      "cell_type": "markdown",
      "source": [
        "7. **Verify the guess**  \n",
        "Finish writing a function called `get_guess` (started below) to prompt the user for a guess and then make sure the input is valid according to the rules of the game.\n",
        "The prompt is already given.  Note that the `list` command converts the input into a list of characters so that it can be passed to the other functions (which are expecting lists).   \n",
        ">**Alert:  you will likely have to think more about data types before this is all over.**"
      ],
      "metadata": {
        "id": "mbK84TdIAVsO"
      }
    },
    {
      "cell_type": "code",
      "source": [
        "def get_guess():\n",
        "    \"\"\"\n",
        "    Purpose: Prompt the user to enter a guess and make sure the guess is valid.\n",
        "\n",
        "    Outputs:\n",
        "        list of integers: A list representing the valid guess for the secret code.\n",
        "    \"\"\"\n",
        "    while True:\n",
        "        guess = input(\"Enter your guess: \")\n",
        "\n",
        "        if len(guess) != 4:\n",
        "            print(\"Your guess must be 4 digits, please try again\")\n",
        "            continue\n",
        "\n",
        "        if len(set(guess)) != 4:\n",
        "            print(\"Your guess cannot repeat digits, please try again\")\n",
        "            continue\n",
        "\n",
        "        if not all(char.isdigit() and '1' <= char <= '6' for char in guess):\n",
        "            print(\"Your guess should be between 1-6, please try again\")\n",
        "            continue\n",
        "\n",
        "        return [int(char) for char in guess]\n",
        "\n",
        "guess = get_guess()"
      ],
      "metadata": {
        "id": "13HGg6VvBXSH",
        "colab": {
          "base_uri": "https://localhost:8080/"
        },
        "outputId": "d64c7d60-7e50-412b-8a06-55b5ac239a41"
      },
      "execution_count": 11,
      "outputs": [
        {
          "name": "stdout",
          "output_type": "stream",
          "text": [
            "Enter your guess: 5426\n"
          ]
        }
      ]
    },
    {
      "cell_type": "markdown",
      "source": [
        "As usual, test your code.  What type of objects are we dealing with here?"
      ],
      "metadata": {
        "id": "PSPYpeZYONf0"
      }
    },
    {
      "cell_type": "code",
      "source": [
        "type(guess)\n",
        "# This is a list"
      ],
      "metadata": {
        "id": "ytgf6BfiOPNh",
        "colab": {
          "base_uri": "https://localhost:8080/"
        },
        "outputId": "38726484-bf1e-465e-a245-59dad8bbc208"
      },
      "execution_count": 12,
      "outputs": [
        {
          "output_type": "execute_result",
          "data": {
            "text/plain": [
              "list"
            ]
          },
          "metadata": {},
          "execution_count": 12
        }
      ]
    },
    {
      "cell_type": "markdown",
      "source": [
        "8. **Put it all together**  \n",
        "Finally, fill in the details of the function `bulls_cows` below so that it will play the game of Bulls and Cows when called.  Note that the function takes no arguments and returns nothing.\n"
      ],
      "metadata": {
        "id": "WdtvUrA4-uzn"
      }
    },
    {
      "cell_type": "code",
      "source": [
        "from random import sample\n",
        "\n",
        "def bulls_cows():\n",
        "  '''\n",
        "  This function plays the game \"Bulls and Cows.\"\n",
        "  It takes no arguments and returns nothing.\n",
        "  '''\n",
        "  code = sample(range(1,7), 4)\n",
        "\n",
        "  for i in range(6):\n",
        "    guess = get_guess()\n",
        "\n",
        "    if code == guess:\n",
        "      print(\"You guessed it!\")\n",
        "      print(response(code, guess))\n",
        "      return\n",
        "    else:\n",
        "      print(\"Incorrect guess. Try again.\")\n",
        "      print(response(code, guess))\n",
        "\n",
        "  print(f\"You have run out of guesses. The secret code was {code}.\")\n",
        "\n",
        "def get_guess():\n",
        "  while True:\n",
        "    guess = input(\"Enter your guess: \")\n",
        "\n",
        "    if len(guess) != 4:\n",
        "      print(\"Your guess must be 4 digits, please try again.\")\n",
        "\n",
        "    if len(set(guess)) != 4:\n",
        "      print(\"Your guess cannot repeat digits, please try again\")\n",
        "\n",
        "    if not all(char.isdigit() and '1' <= char <= '6' for char in guess):\n",
        "      print(\"Your guess should be between 1-6, please try again\")\n",
        "\n",
        "    # return list(guess)\n",
        "    return list(map(int, guess))\n",
        "def response(code, guess):\n",
        "  bulls = sum(1 for i in range(4) if code[i] == guess[i])\n",
        "  cows = sum(1 for digit in set(guess) if digit in code) - bulls\n",
        "  misses = 4 - bulls - cows\n",
        "  return (bulls * 'B'+ cows * 'C'+ misses * 'X')"
      ],
      "metadata": {
        "id": "TTH-t9lCvvhG"
      },
      "execution_count": 13,
      "outputs": []
    },
    {
      "cell_type": "markdown",
      "metadata": {
        "id": "NzjqX_9K3OuV"
      },
      "source": [
        "Play the game a few times below.  Make sure it behaves as you think it should!"
      ]
    },
    {
      "cell_type": "code",
      "execution_count": 14,
      "metadata": {
        "id": "b-HELV-z3OuW",
        "colab": {
          "base_uri": "https://localhost:8080/"
        },
        "outputId": "5829ef01-2d0e-4060-a015-cc3741d106cc"
      },
      "outputs": [
        {
          "output_type": "stream",
          "name": "stdout",
          "text": [
            "Enter your guess: 5423\n",
            "Incorrect guess. Try again.\n",
            "CCCC\n",
            "Enter your guess: 2345\n",
            "Incorrect guess. Try again.\n",
            "BBCC\n",
            "Enter your guess: 3245\n",
            "Incorrect guess. Try again.\n",
            "CCCC\n",
            "Enter your guess: 2354\n",
            "You guessed it!\n",
            "BBBB\n"
          ]
        }
      ],
      "source": [
        "bulls_cows()"
      ]
    },
    {
      "cell_type": "code",
      "source": [
        "bulls_cows()"
      ],
      "metadata": {
        "id": "inzOdtimDfGU",
        "colab": {
          "base_uri": "https://localhost:8080/"
        },
        "outputId": "2c495c40-580a-4b1a-f140-2c573d5daa37"
      },
      "execution_count": 15,
      "outputs": [
        {
          "output_type": "stream",
          "name": "stdout",
          "text": [
            "Enter your guess: 6453\n",
            "Incorrect guess. Try again.\n",
            "CCXX\n",
            "Enter your guess: 1354\n",
            "Incorrect guess. Try again.\n",
            "BCCX\n",
            "Enter your guess: 2345\n",
            "Incorrect guess. Try again.\n",
            "BCCX\n",
            "Enter your guess: 5346\n",
            "Incorrect guess. Try again.\n",
            "CCXX\n",
            "Enter your guess: 4326\n",
            "Incorrect guess. Try again.\n",
            "CCXX\n",
            "Enter your guess: 1524\n",
            "Incorrect guess. Try again.\n",
            "BBCC\n",
            "You have run out of guesses. The secret code was [2, 5, 1, 4].\n"
          ]
        }
      ]
    },
    {
      "cell_type": "code",
      "source": [
        "bulls_cows()"
      ],
      "metadata": {
        "id": "Eqw-5laFDfkG",
        "colab": {
          "base_uri": "https://localhost:8080/"
        },
        "outputId": "26dfd7ff-bc38-49a2-e074-b04a82931ec7"
      },
      "execution_count": 16,
      "outputs": [
        {
          "output_type": "stream",
          "name": "stdout",
          "text": [
            "Enter your guess: 6243\n",
            "Incorrect guess. Try again.\n",
            "CCXX\n",
            "Enter your guess: 1253\n",
            "Incorrect guess. Try again.\n",
            "CCXX\n",
            "Enter your guess: 4326\n",
            "Incorrect guess. Try again.\n",
            "CCXX\n",
            "Enter your guess: 3452\n",
            "Incorrect guess. Try again.\n",
            "CCXX\n",
            "Enter your guess: 1362\n",
            "Incorrect guess. Try again.\n",
            "CCXX\n",
            "Enter your guess: 1314\n",
            "Your guess cannot repeat digits, please try again\n",
            "Incorrect guess. Try again.\n",
            "BBXX\n",
            "You have run out of guesses. The secret code was [5, 6, 1, 4].\n"
          ]
        }
      ]
    },
    {
      "cell_type": "markdown",
      "source": [
        "9. **Reflect**  \n",
        "Think of at least three ways you could change the rules or setup of the game, and in each case describe (in one sentence, you don't need to write code) what you would have to do to modify your code to play the new version of the game.  Use a text box below for each of your ideas."
      ],
      "metadata": {
        "id": "a58-KCX4ELRO"
      }
    },
    {
      "cell_type": "markdown",
      "source": [
        "(1) A change in the game could be making the bulls, cows, and misses in order - for example, the way Wordle functions. This would make it significantly easier for the user to play and likely more entertaining."
      ],
      "metadata": {
        "id": "Jof2vIZSEfwo"
      }
    },
    {
      "cell_type": "markdown",
      "source": [
        "(2) Another version of the game could use letters instead of numbers, so replace the numbers in the code with randomly chosen letters."
      ],
      "metadata": {
        "id": "f2_QlBavEiqW"
      }
    },
    {
      "cell_type": "markdown",
      "source": [
        "(3) The game could be a two-player game, where one player chooses the numbers and the other tries to guess the numbers, so the code would allow the numbers to be chosen instead of random."
      ],
      "metadata": {
        "id": "sqfq2EFpEjZt"
      }
    }
  ],
  "metadata": {
    "colab": {
      "provenance": [],
      "include_colab_link": true
    },
    "kernelspec": {
      "display_name": "Python 3",
      "name": "python3"
    },
    "language_info": {
      "name": "python"
    }
  },
  "nbformat": 4,
  "nbformat_minor": 0
}