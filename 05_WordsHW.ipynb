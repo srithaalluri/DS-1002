{
  "nbformat": 4,
  "nbformat_minor": 0,
  "metadata": {
    "colab": {
      "provenance": [],
      "include_colab_link": true
    },
    "kernelspec": {
      "name": "python3",
      "display_name": "Python 3"
    },
    "language_info": {
      "name": "python"
    }
  },
  "cells": [
    {
      "cell_type": "markdown",
      "metadata": {
        "id": "view-in-github",
        "colab_type": "text"
      },
      "source": [
        "<a href=\"https://colab.research.google.com/github/srithaalluri/DS-1002/blob/main/05_WordsHW.ipynb\" target=\"_parent\"><img src=\"https://colab.research.google.com/assets/colab-badge.svg\" alt=\"Open In Colab\"/></a>"
      ]
    },
    {
      "cell_type": "markdown",
      "source": [
        "Maya Justilien and Sritha Alluri"
      ],
      "metadata": {
        "id": "dEAYR5TN4yAT"
      }
    },
    {
      "cell_type": "code",
      "execution_count": 32,
      "metadata": {
        "colab": {
          "base_uri": "https://localhost:8080/"
        },
        "id": "JeX33uV54q2-",
        "outputId": "46093df1-0596-43d4-ca12-f56802cc1378"
      },
      "outputs": [
        {
          "output_type": "stream",
          "name": "stdout",
          "text": [
            "Requirement already satisfied: english_words in /usr/local/lib/python3.10/dist-packages (2.0.1)\n"
          ]
        }
      ],
      "source": [
        "!pip install english_words\n",
        "from english_words import get_english_words_set\n",
        "words = get_english_words_set(['web2'], lower=True)"
      ]
    },
    {
      "cell_type": "code",
      "source": [
        "print(type(words))\n"
      ],
      "metadata": {
        "colab": {
          "base_uri": "https://localhost:8080/"
        },
        "id": "fOZ2wJKw5Ko4",
        "outputId": "c666b2a5-b63c-48ef-8d46-ebf15594dfef"
      },
      "execution_count": 33,
      "outputs": [
        {
          "output_type": "stream",
          "name": "stdout",
          "text": [
            "<class 'set'>\n"
          ]
        }
      ]
    },
    {
      "cell_type": "code",
      "source": [
        "from ast import Num\n",
        "words = list(words)\n",
        "print(type(words))\n",
        "print()\n",
        "alpha_list = sorted(words)\n",
        "print(alpha_list[0:10])\n",
        "print()  # doing this to make outputs easier to read and understand\n",
        "words_a = [word for word in words if word.startswith('a')]\n",
        "print(len(words_a)) #len function allows me to retrieve the number of words that start with 'a' rather than the words themselves\n",
        "print()\n",
        "words_q = [word for word in words if 'q' in word]\n",
        "print(len(words_q))\n",
        "print()\n",
        "from fractions import Fraction\n",
        "words_no_e = [word for word in words if 'e' not in word]\n",
        "# length of 'words' is 234450\n",
        "fraction = Fraction(len(words_no_e), 234450)\n",
        "print(fraction)"
      ],
      "metadata": {
        "colab": {
          "base_uri": "https://localhost:8080/"
        },
        "id": "enqmzh1L9WmB",
        "outputId": "d2409058-5ff6-415d-823e-5fd02c360465"
      },
      "execution_count": 34,
      "outputs": [
        {
          "output_type": "stream",
          "name": "stdout",
          "text": [
            "<class 'list'>\n",
            "\n",
            "['a', 'aa', 'aal', 'aalii', 'aam', 'aani', 'aardvark', 'aardwolf', 'aaron', 'aaronic']\n",
            "\n",
            "16982\n",
            "\n",
            "3624\n",
            "\n",
            "38483/117225\n"
          ]
        }
      ]
    },
    {
      "cell_type": "code",
      "source": [
        "import numpy as np\n",
        "words_array = np.array(words)\n",
        "alphabet = [chr(i) for i in range(ord('a'),ord('z')+1)] # this allows us to print the alphabet in a list - the ord and chr functions show us how letters and integers in Python are connected\n",
        "print(alphabet)"
      ],
      "metadata": {
        "id": "qUSy9gtaTCM6",
        "colab": {
          "base_uri": "https://localhost:8080/"
        },
        "outputId": "df9abf33-8e8b-4765-e643-9c223e93a802"
      },
      "execution_count": 35,
      "outputs": [
        {
          "output_type": "stream",
          "name": "stdout",
          "text": [
            "['a', 'b', 'c', 'd', 'e', 'f', 'g', 'h', 'i', 'j', 'k', 'l', 'm', 'n', 'o', 'p', 'q', 'r', 's', 't', 'u', 'v', 'w', 'x', 'y', 'z']\n"
          ]
        }
      ]
    },
    {
      "cell_type": "code",
      "source": [
        "import matplotlib.pyplot as plt\n",
        "\n",
        "frequency = list()\n",
        "for letter in alphabet:\n",
        "  count = sum(1 for word in alpha_list if word[0] == letter)\n",
        "  frequency.append(count)\n",
        "print(frequency)\n",
        "\n",
        "x = alphabet\n",
        "y = frequency\n",
        "\n",
        "\n",
        "plt.bar(x, y, label=\"words per letter\", color='b')\n",
        "plt.plot()\n",
        "\n",
        "plt.xlabel(\"alphabet\")\n",
        "plt.ylabel(\"number of words\")\n",
        "plt.title(\"Words Per Letter\")\n",
        "plt.legend()\n",
        "plt.show()"
      ],
      "metadata": {
        "id": "OJCeqvY7MnWd",
        "colab": {
          "base_uri": "https://localhost:8080/",
          "height": 510
        },
        "outputId": "17a4a13e-2c40-480b-a4a0-2385a92b2972"
      },
      "execution_count": 36,
      "outputs": [
        {
          "output_type": "stream",
          "name": "stdout",
          "text": [
            "[16982, 10970, 19789, 10853, 8705, 6841, 6772, 8997, 8787, 1604, 2242, 6234, 12516, 6747, 7831, 24342, 1148, 9618, 24937, 12855, 16364, 3418, 3913, 380, 663, 942]\n"
          ]
        },
        {
          "output_type": "display_data",
          "data": {
            "text/plain": [
              "<Figure size 640x480 with 1 Axes>"
            ],
            "image/png": "[encoded data removed]"
          },
          "metadata": {}
        }
      ]
    },
    {
      "cell_type": "code",
      "source": [
        "longest_words = sorted(words_array, key=len)[-6:] # using the sort function to sort my array based on length - it then gives me the six longest as shown in the hard brackets\n",
        "print(longest_words)"
      ],
      "metadata": {
        "colab": {
          "base_uri": "https://localhost:8080/"
        },
        "id": "oaq2K1hcQsZi",
        "outputId": "b2670d83-67c0-4531-81f7-294695c95d64"
      },
      "execution_count": 37,
      "outputs": [
        {
          "output_type": "stream",
          "name": "stdout",
          "text": [
            "['formaldehydesulphoxylate', 'tetraiodophenolphthalein', 'thyroparathyroidectomize', 'scientificophilosophical', 'pathologicopsychological', 'antidisestablishmentarianism']\n"
          ]
        }
      ]
    },
    {
      "cell_type": "code",
      "source": [
        "word_length = {length: 0 for length in range(1, 29)} # using the range function since the longest word is 28 letters\n",
        "for word in words:\n",
        "    length = len(word)\n",
        "    if length <= 28:\n",
        "        word_length[length] += 1\n",
        "print(word_length) # printing this so the most common length can be observed from the set\n",
        "plt.hist(word_length.keys(), bins=range(1, 29), weights=word_length.values(), color='green')\n",
        "plt.title('Histogram of Word Lengths')\n",
        "plt.xlabel('Word Length')\n",
        "plt.ylabel('Frequency')\n",
        "plt.show()\n",
        "\n",
        "# based off of the histogram and 'word_length' variable printed, the most common length of a word in the wordlist is 9"
      ],
      "metadata": {
        "colab": {
          "base_uri": "https://localhost:8080/",
          "height": 510
        },
        "id": "x-2odylXvKA-",
        "outputId": "c0592702-1e4b-45fd-870a-ce4708c37fd4"
      },
      "execution_count": 38,
      "outputs": [
        {
          "output_type": "stream",
          "name": "stdout",
          "text": [
            "{1: 26, 2: 139, 3: 1300, 4: 5006, 5: 9979, 6: 17468, 7: 23723, 8: 29851, 9: 32294, 10: 30828, 11: 25968, 12: 20453, 13: 14925, 14: 9763, 15: 5923, 16: 3376, 17: 1814, 18: 842, 19: 428, 20: 198, 21: 82, 22: 41, 23: 17, 24: 5, 25: 0, 26: 0, 27: 0, 28: 1}\n"
          ]
        },
        {
          "output_type": "display_data",
          "data": {
            "text/plain": [
              "<Figure size 640x480 with 1 Axes>"
            ],
            "image/png": "[encoded data removed]"
          },
          "metadata": {}
        }
      ]
    },
    {
      "cell_type": "code",
      "source": [
        "v_and_a_count = 0 # using the method mentioned in class along with a foreloop again - took 0 seconds to run\n",
        "w_and_l_count = 0\n",
        "\n",
        "for word in words:\n",
        "    if 'v' in word and 'a' in word:\n",
        "        v_and_a_count += 1\n",
        "    if 'w' in word and 'l' in word:\n",
        "        w_and_l_count += 1\n",
        "\n",
        "print(\"The number of words with both 'v' and 'a':\", v_and_a_count)\n",
        "print()\n",
        "print(\"The number of words with both 'w' and 'l':\", w_and_l_count)"
      ],
      "metadata": {
        "colab": {
          "base_uri": "https://localhost:8080/"
        },
        "id": "nuUtBXBqzmz_",
        "outputId": "fc4288ea-32a3-4dac-b8c6-d0d4eb0a68de"
      },
      "execution_count": 40,
      "outputs": [
        {
          "output_type": "stream",
          "name": "stdout",
          "text": [
            "The number of words with both 'v' and 'a': 11347\n",
            "\n",
            "The number of words with both 'w' and 'l': 4822\n"
          ]
        }
      ]
    }
  ]
}